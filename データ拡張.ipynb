{
  "nbformat": 4,
  "nbformat_minor": 0,
  "metadata": {
    "colab": {
      "name": "データ拡張",
      "provenance": [],
      "authorship_tag": "ABX9TyNygUFawQ1rG9Iu7bef/FyV",
      "include_colab_link": true
    },
    "kernelspec": {
      "name": "python3",
      "display_name": "Python 3"
    },
    "language_info": {
      "name": "python"
    }
  },
  "cells": [
    {
      "cell_type": "markdown",
      "metadata": {
        "id": "view-in-github",
        "colab_type": "text"
      },
      "source": [
        "<a href=\"https://colab.research.google.com/github/quang-pham/DeeplearningTutorial/blob/main/%E3%83%87%E3%83%BC%E3%82%BF%E6%8B%A1%E5%BC%B5.ipynb\" target=\"_parent\"><img src=\"https://colab.research.google.com/assets/colab-badge.svg\" alt=\"Open In Colab\"/></a>"
      ]
    },
    {
      "cell_type": "code",
      "metadata": {
        "id": "pSWmQ1c01Qgv"
      },
      "source": [
        "# 画像処理用\n",
        "import cv2\n",
        "import numpy as np\n",
        "\n",
        "# ファイル出力用\n",
        "import os\n",
        "import shutil\n",
        "import glob"
      ],
      "execution_count": 41,
      "outputs": []
    },
    {
      "cell_type": "code",
      "metadata": {
        "id": "ovhDws2s1Xzn"
      },
      "source": [
        "def  make_image(input_img):\n",
        "  img_size = input_img.shape\n",
        "  filter_one = np.ones((3, 3))\n",
        "    \n",
        "  # 変換行列(回転の中心, 回転角度, 拡大倍率)\n",
        "  mat1=cv2.getRotationMatrix2D(tuple(np.array(input_img.shape[:2])/2),20,1)\n",
        "  mat2=cv2.getRotationMatrix2D(tuple(np.array(input_img.shape[:2])/2),40,1)\n",
        "\n",
        "  fake_method_array = np.array([\n",
        "    # 画像の回転(画像データ, 変換行列, 出力画像サイズ)\n",
        "    lambda image: cv2.warpAffine(image,mat1,image.shape[:2]), \n",
        "    lambda image: cv2.warpAffine(image,mat2,image.shape[:2]),\n",
        "\n",
        "    # 2値化(入力画像[グレースケール画像], しきい値, 最大値, 処理内容)\n",
        "    # 処理内容: cv2.THRESH_TOZERO=しきい値より大きい値は元のまま、それ以外の値が0\n",
        "    lambda image: cv2.threshold(image, 100, 255, cv2.THRESH_TOZERO)[1],\n",
        "\n",
        "    # ぼかし(画像, ぼかしカーネル, 横方向の標準偏差。0だと自動的に計算)\n",
        "    lambda image: cv2.GaussianBlur(image, (5, 5), 0),\n",
        "\n",
        "    # リサイズ(画像, 変換後の高さ, 変換後の幅)\n",
        "    lambda image: cv2.resize(cv2.resize(image, (img_size[1] // 5, img_size[0] // 5)),(img_size[1], img_size[0])),\n",
        "\n",
        "    # 収縮,モルフォロジー変換(畳み込み処理のようにフィルターとのOR変換)\n",
        "    lambda image: cv2.erode(image, filter_one),\n",
        "\n",
        "    # 上下反転\n",
        "    lambda image: cv2.flip(image, 1),\n",
        "    ])\n",
        "    \n",
        "  # 画像変換処理を実行します\n",
        "  images = []\n",
        "\n",
        "  for method in fake_method_array:\n",
        "    faked_img = method(input_img)\n",
        "    images.append(faked_img)\n",
        "    \n",
        "  return images"
      ],
      "execution_count": 21,
      "outputs": []
    },
    {
      "cell_type": "code",
      "metadata": {
        "id": "Az-WLC124d6I"
      },
      "source": [
        "source_dir = \"img_src/*\"\n",
        "output_dir = \"img_expansion\"\n",
        "\n",
        "files = glob.glob(source_dir)\n",
        "for source_image in files:\n",
        "  # 画像データ読み込み\n",
        "  target_image = cv2.imread(source_image.split(\"/\")[1]) # 画像のパス\n",
        "  image_name = source_image.split(\"/\")[1].split(\".\")[0] #画像名\n",
        "\n",
        "  # 画像の加工\n",
        "  fake_images = make_image(target_img)\n",
        "\n",
        "  # 画像を保存するフォルダを作成\n",
        "  if not os.path.exists(output_dir):\n",
        "      os.mkdir(output_dir)\n",
        "\n",
        "  # 処理のリスト\n",
        "  process_list = [\n",
        "      \"rotate_20\",\n",
        "      \"rotate_45\",\n",
        "      \"binarization\",\n",
        "      \"blur\",\n",
        "      \"rezise\",\n",
        "      \"erode\",\n",
        "      \"flip\"\n",
        "  ]\n",
        "\n",
        "  # 拡張したものを保存\n",
        "  for number, img in enumerate(fake_images):\n",
        "      cv2.imwrite(f\"./{output_dir}/{image_name}_{process_list[number]}.jpg\", img)\n"
      ],
      "execution_count": 61,
      "outputs": []
    },
    {
      "cell_type": "code",
      "metadata": {
        "colab": {
          "base_uri": "https://localhost:8080/",
          "height": 35
        },
        "id": "g1vRpOVw3ItU",
        "outputId": "6e1c9853-d915-46b9-edaa-fd3b3a20345c"
      },
      "source": [
        "# 作成したファイルをダウンロードできるようにする\n",
        "shutil.make_archive(\"/content/img_expansion\", \"zip\", root_dir=\"/content/img_expansion\")"
      ],
      "execution_count": 48,
      "outputs": [
        {
          "output_type": "execute_result",
          "data": {
            "application/vnd.google.colaboratory.intrinsic+json": {
              "type": "string"
            },
            "text/plain": [
              "'/content/img_expansion.zip'"
            ]
          },
          "metadata": {},
          "execution_count": 48
        }
      ]
    },
    {
      "cell_type": "code",
      "metadata": {
        "id": "Q9zCkV9E5NLA"
      },
      "source": [
        ""
      ],
      "execution_count": null,
      "outputs": []
    }
  ]
}